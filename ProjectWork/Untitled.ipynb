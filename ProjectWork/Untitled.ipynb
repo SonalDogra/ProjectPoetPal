{
 "cells": [
  {
   "cell_type": "code",
   "execution_count": 31,
   "id": "fa34093b-a67c-4440-afb6-463cbc625a99",
   "metadata": {},
   "outputs": [],
   "source": [
    "import pandas as pd\n",
    "import nltk\n",
    "from nltk import word_tokenize, pos_tag, ne_chunk\n"
   ]
  },
  {
   "cell_type": "code",
   "execution_count": 32,
   "id": "9804ec58-3eb5-44e2-bd5a-166a6672624d",
   "metadata": {},
   "outputs": [
    {
     "name": "stderr",
     "output_type": "stream",
     "text": [
      "[nltk_data] Downloading package punkt to\n",
      "[nltk_data]     /Users/sonaldogra/nltk_data...\n",
      "[nltk_data]   Package punkt is already up-to-date!\n",
      "[nltk_data] Downloading package maxent_ne_chunker to\n",
      "[nltk_data]     /Users/sonaldogra/nltk_data...\n",
      "[nltk_data]   Package maxent_ne_chunker is already up-to-date!\n",
      "[nltk_data] Downloading package words to\n",
      "[nltk_data]     /Users/sonaldogra/nltk_data...\n",
      "[nltk_data]   Package words is already up-to-date!\n"
     ]
    },
    {
     "data": {
      "text/plain": [
       "True"
      ]
     },
     "execution_count": 32,
     "metadata": {},
     "output_type": "execute_result"
    }
   ],
   "source": [
    "nltk.download('punkt')\n",
    "nltk.download('maxent_ne_chunker')\n",
    "nltk.download('words')"
   ]
  },
  {
   "cell_type": "code",
   "execution_count": 33,
   "id": "f964ddcd-16f5-4a6f-9960-672eae9b90d1",
   "metadata": {},
   "outputs": [],
   "source": [
    "df = pd.read_csv('poem-dataset.csv')"
   ]
  },
  {
   "cell_type": "code",
   "execution_count": 34,
   "id": "b0e7d3a4-2b1d-4953-bca1-9ca57727d3c8",
   "metadata": {},
   "outputs": [],
   "source": [
    "poems = df['poem content'].tolist()"
   ]
  },
  {
   "cell_type": "code",
   "execution_count": 35,
   "id": "18d8c690-680b-4595-b7d1-73972cfb1c4e",
   "metadata": {},
   "outputs": [
    {
     "ename": "SyntaxError",
     "evalue": "invalid syntax (3399131780.py, line 1)",
     "output_type": "error",
     "traceback": [
      "\u001b[0;36m  Cell \u001b[0;32mIn[35], line 1\u001b[0;36m\u001b[0m\n\u001b[0;31m    def extract_named_entities(poem content):\u001b[0m\n\u001b[0m                                    ^\u001b[0m\n\u001b[0;31mSyntaxError\u001b[0m\u001b[0;31m:\u001b[0m invalid syntax\n"
     ]
    }
   ],
   "source": [
    "def extract_named_entities(poem content):\n",
    "    words = word_tokenize(poem content)\n",
    "    pos_tags = pos_tag(words)\n",
    "    named_entities = ne_chunk(pos_tags)\n",
    "    return named_entities"
   ]
  },
  {
   "cell_type": "code",
   "execution_count": null,
   "id": "84edb9ed-728a-4c9e-bd60-25755c396652",
   "metadata": {},
   "outputs": [],
   "source": [
    "nltk.download('averaged_perceptron_tagger')\n",
    "\n"
   ]
  },
  {
   "cell_type": "code",
   "execution_count": 24,
   "id": "a33f6126-721c-48df-ba51-c07741828d2e",
   "metadata": {},
   "outputs": [],
   "source": [
    "df['named_entities'] = df['poem content'].apply(extract_named_entities)\n"
   ]
  },
  {
   "cell_type": "code",
   "execution_count": 25,
   "id": "a3c465fd-ff98-4950-8334-f00b10c31fa7",
   "metadata": {},
   "outputs": [
    {
     "name": "stdout",
     "output_type": "stream",
     "text": [
      "<bound method NDFrame.head of                                           poem content  pred    label  \\\n",
      "0    Let the bird of loudest lay\\r\\nOn the sole Ara...     5  sadness   \n",
      "1    Sir Charles into my chamber coming in,\\r\\nWhen...     0    anger   \n",
      "2    Our vice runs beyond all that old men saw,\\r\\n...     0    anger   \n",
      "3    Lo I the man, whose Muse whilome did maske,\\r\\...     0    anger   \n",
      "4    Long have I longd to see my love againe,\\r\\nSt...     5  sadness   \n",
      "..                                                 ...   ...      ...   \n",
      "445  This youth too long has heard the break\\r\\nOf ...     2     fear   \n",
      "446  Making his advances\\r\\nHe does not look at her...     2     fear   \n",
      "447  I thought he was dumb,\\r\\nI said he was dumb,\\...     2     fear   \n",
      "448  With the man I love who loves me not,\\r\\nI wal...     0    anger   \n",
      "449  When you are old and grey and full of sleep,\\r...     5  sadness   \n",
      "\n",
      "        score     anger   disgust      fear       joy   neutral   sadness  \\\n",
      "0    0.650738  0.133402  0.076618  0.094706  0.006762  0.032960  0.650738   \n",
      "1    0.264296  0.264296  0.145707  0.057977  0.262715  0.019884  0.244457   \n",
      "2    0.758054  0.758054  0.210444  0.003690  0.001755  0.013997  0.011483   \n",
      "3    0.896280  0.896280  0.009259  0.004949  0.002320  0.007623  0.078088   \n",
      "4    0.600543  0.027077  0.036344  0.075487  0.017212  0.187106  0.600543   \n",
      "..        ...       ...       ...       ...       ...       ...       ...   \n",
      "445  0.914781  0.007323  0.024734  0.914781  0.001109  0.011168  0.026043   \n",
      "446  0.722231  0.008306  0.061179  0.722231  0.002310  0.037201  0.159294   \n",
      "447  0.964688  0.009096  0.006530  0.964688  0.000842  0.006012  0.006808   \n",
      "448  0.762434  0.762434  0.005695  0.144403  0.011061  0.025992  0.039628   \n",
      "449  0.980703  0.000842  0.001413  0.004988  0.001448  0.006965  0.980703   \n",
      "\n",
      "     surprise          age                  type  \\\n",
      "0    0.004814  Renaissance  Mythology & Folklore   \n",
      "1    0.004963  Renaissance  Mythology & Folklore   \n",
      "2    0.000578  Renaissance  Mythology & Folklore   \n",
      "3    0.001481  Renaissance  Mythology & Folklore   \n",
      "4    0.056230  Renaissance  Mythology & Folklore   \n",
      "..        ...          ...                   ...   \n",
      "445  0.014843       Modern                  Love   \n",
      "446  0.009480       Modern                  Love   \n",
      "447  0.006024       Modern                  Love   \n",
      "448  0.010787       Modern                  Love   \n",
      "449  0.003641       Modern                  Love   \n",
      "\n",
      "                                        named_entities  \n",
      "0    [(Let, VB), (the, DT), (bird, NN), (of, IN), (...  \n",
      "1    [[(Sir, NNP)], [(Charles, NNP)], (into, IN), (...  \n",
      "2    [(Our, PRP$), (vice, NN), (runs, VBZ), (beyond...  \n",
      "3    [(Lo, NNP), (I, PRP), (the, DT), (man, NN), (,...  \n",
      "4    [(Long, RB), (have, VBP), (I, PRP), (longd, VB...  \n",
      "..                                                 ...  \n",
      "445  [(This, DT), (youth, NN), (too, RB), (long, RB...  \n",
      "446  [(Making, VBG), (his, PRP$), (advances, NNS), ...  \n",
      "447  [(I, PRP), (thought, VBD), (he, PRP), (was, VB...  \n",
      "448  [(With, IN), (the, DT), (man, NN), (I, PRP), (...  \n",
      "449  [(When, WRB), (you, PRP), (are, VBP), (old, JJ...  \n",
      "\n",
      "[450 rows x 14 columns]>\n"
     ]
    }
   ],
   "source": [
    "print(df.head)\n"
   ]
  },
  {
   "cell_type": "code",
   "execution_count": null,
   "id": "80cd5ef2-bc72-40e5-aae6-997290250970",
   "metadata": {},
   "outputs": [],
   "source": [
    "df.to_csv('poems_with_named_entities.csv', index=False)\n"
   ]
  },
  {
   "cell_type": "code",
   "execution_count": null,
   "id": "fede67d0-e400-4fa8-9c9c-80e285830532",
   "metadata": {},
   "outputs": [],
   "source": []
  }
 ],
 "metadata": {
  "kernelspec": {
   "display_name": "Python 3 (ipykernel)",
   "language": "python",
   "name": "python3"
  },
  "language_info": {
   "codemirror_mode": {
    "name": "ipython",
    "version": 3
   },
   "file_extension": ".py",
   "mimetype": "text/x-python",
   "name": "python",
   "nbconvert_exporter": "python",
   "pygments_lexer": "ipython3",
   "version": "3.11.7"
  }
 },
 "nbformat": 4,
 "nbformat_minor": 5
}
